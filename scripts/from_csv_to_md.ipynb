{
 "cells": [
  {
   "cell_type": "markdown",
   "id": "94f1f5bd",
   "metadata": {},
   "source": [
    "## Header \n",
    "Auteur : Amina Matt  \n",
    "Date de création : 27.12.2021  \n",
    "Date de dernière modification: 27.12.2021   \n",
    "Version : Python 3.8   \n",
    "Description: Créer les objects d'une collection (books) en format  .md avec le format requis. Une boucle sur les objets pour remplir un tableau ([Datatable](https://www.datatables.net))"
   ]
  },
  {
   "cell_type": "markdown",
   "id": "44931730",
   "metadata": {},
   "source": [
    "## Librairies"
   ]
  },
  {
   "cell_type": "code",
   "execution_count": 1,
   "id": "be6b5ff9",
   "metadata": {},
   "outputs": [],
   "source": [
    "import pandas as pd"
   ]
  },
  {
   "cell_type": "markdown",
   "id": "adc34c6a",
   "metadata": {},
   "source": [
    "## Initialization "
   ]
  },
  {
   "cell_type": "code",
   "execution_count": 7,
   "id": "0be1fcde",
   "metadata": {},
   "outputs": [],
   "source": [
    "PATH = '../data/'\n",
    "GENERATED_DATA = '../generated-data/'\n",
    "CATALOG = PATH+'biblio_la_molene_catalogue.csv'"
   ]
  },
  {
   "cell_type": "markdown",
   "id": "904088f6",
   "metadata": {},
   "source": [
    "## Load"
   ]
  },
  {
   "cell_type": "code",
   "execution_count": 8,
   "id": "c65d6646",
   "metadata": {},
   "outputs": [],
   "source": [
    "raw_data = pd.read_csv(CATALOG)"
   ]
  },
  {
   "cell_type": "code",
   "execution_count": 9,
   "id": "04e90116",
   "metadata": {},
   "outputs": [
    {
     "data": {
      "text/html": [
       "<div>\n",
       "<style scoped>\n",
       "    .dataframe tbody tr th:only-of-type {\n",
       "        vertical-align: middle;\n",
       "    }\n",
       "\n",
       "    .dataframe tbody tr th {\n",
       "        vertical-align: top;\n",
       "    }\n",
       "\n",
       "    .dataframe thead th {\n",
       "        text-align: right;\n",
       "    }\n",
       "</style>\n",
       "<table border=\"1\" class=\"dataframe\">\n",
       "  <thead>\n",
       "    <tr style=\"text-align: right;\">\n",
       "      <th></th>\n",
       "      <th>NOM AUTEURICE</th>\n",
       "      <th>PRENOM AUTEURICE</th>\n",
       "      <th>&amp; La pensée féministe au maghreb</th>\n",
       "      <th>EXEMPLAIRES</th>\n",
       "      <th>Unnamed: 4</th>\n",
       "      <th>Unnamed: 5</th>\n",
       "    </tr>\n",
       "  </thead>\n",
       "  <tbody>\n",
       "    <tr>\n",
       "      <th>0</th>\n",
       "      <td>ABÉCASSIS</td>\n",
       "      <td>Eliette</td>\n",
       "      <td>9 Histoire Lumineuse ou le bien est le mal</td>\n",
       "      <td>16/24</td>\n",
       "      <td>NaN</td>\n",
       "      <td>NaN</td>\n",
       "    </tr>\n",
       "    <tr>\n",
       "      <th>1</th>\n",
       "      <td>ABIRACHED</td>\n",
       "      <td>Zeina</td>\n",
       "      <td>À cases égales - Des créatrices de BD romande...</td>\n",
       "      <td>42</td>\n",
       "      <td>NaN</td>\n",
       "      <td>NaN</td>\n",
       "    </tr>\n",
       "    <tr>\n",
       "      <th>2</th>\n",
       "      <td>ABIRACHED</td>\n",
       "      <td>Zeina</td>\n",
       "      <td>10 minutes et 38 secondes dans ce monde étrange</td>\n",
       "      <td>42</td>\n",
       "      <td>NaN</td>\n",
       "      <td>NaN</td>\n",
       "    </tr>\n",
       "    <tr>\n",
       "      <th>3</th>\n",
       "      <td>ABIRACHED\\nENARD</td>\n",
       "      <td>Zeina\\nMathias</td>\n",
       "      <td>100 Portraits contre l’état policier</td>\n",
       "      <td>42</td>\n",
       "      <td>NaN</td>\n",
       "      <td>NaN</td>\n",
       "    </tr>\n",
       "    <tr>\n",
       "      <th>4</th>\n",
       "      <td>ABOUET\\nOUBRERIE</td>\n",
       "      <td>Marguerite\\nClément</td>\n",
       "      <td>19 femmes</td>\n",
       "      <td>42</td>\n",
       "      <td>NaN</td>\n",
       "      <td>NaN</td>\n",
       "    </tr>\n",
       "  </tbody>\n",
       "</table>\n",
       "</div>"
      ],
      "text/plain": [
       "      NOM AUTEURICE     PRENOM AUTEURICE  \\\n",
       "0         ABÉCASSIS              Eliette   \n",
       "1         ABIRACHED                Zeina   \n",
       "2         ABIRACHED                Zeina   \n",
       "3  ABIRACHED\\nENARD       Zeina\\nMathias   \n",
       "4  ABOUET\\nOUBRERIE  Marguerite\\nClément   \n",
       "\n",
       "                   & La pensée féministe au maghreb  EXEMPLAIRES Unnamed: 4  \\\n",
       "0         9 Histoire Lumineuse ou le bien est le mal       16/24        NaN   \n",
       "1   À cases égales - Des créatrices de BD romande...          42        NaN   \n",
       "2    10 minutes et 38 secondes dans ce monde étrange          42        NaN   \n",
       "3               100 Portraits contre l’état policier          42        NaN   \n",
       "4                                          19 femmes          42        NaN   \n",
       "\n",
       "  Unnamed: 5  \n",
       "0        NaN  \n",
       "1        NaN  \n",
       "2        NaN  \n",
       "3        NaN  \n",
       "4        NaN  "
      ]
     },
     "execution_count": 9,
     "metadata": {},
     "output_type": "execute_result"
    }
   ],
   "source": [
    "raw_data.head()"
   ]
  },
  {
   "cell_type": "code",
   "execution_count": 10,
   "id": "eb1e6746",
   "metadata": {},
   "outputs": [
    {
     "data": {
      "text/html": [
       "<div>\n",
       "<style scoped>\n",
       "    .dataframe tbody tr th:only-of-type {\n",
       "        vertical-align: middle;\n",
       "    }\n",
       "\n",
       "    .dataframe tbody tr th {\n",
       "        vertical-align: top;\n",
       "    }\n",
       "\n",
       "    .dataframe thead th {\n",
       "        text-align: right;\n",
       "    }\n",
       "</style>\n",
       "<table border=\"1\" class=\"dataframe\">\n",
       "  <thead>\n",
       "    <tr style=\"text-align: right;\">\n",
       "      <th></th>\n",
       "      <th>Nom</th>\n",
       "      <th>Prénom</th>\n",
       "      <th>Titre</th>\n",
       "      <th>Catégorie</th>\n",
       "      <th>Unnamed: 4</th>\n",
       "      <th>Unnamed: 5</th>\n",
       "    </tr>\n",
       "  </thead>\n",
       "  <tbody>\n",
       "    <tr>\n",
       "      <th>0</th>\n",
       "      <td>ABÉCASSIS</td>\n",
       "      <td>Eliette</td>\n",
       "      <td>9 Histoire Lumineuse ou le bien est le mal</td>\n",
       "      <td>16/24</td>\n",
       "      <td>NaN</td>\n",
       "      <td>NaN</td>\n",
       "    </tr>\n",
       "    <tr>\n",
       "      <th>1</th>\n",
       "      <td>ABIRACHED</td>\n",
       "      <td>Zeina</td>\n",
       "      <td>À cases égales - Des créatrices de BD romande...</td>\n",
       "      <td>42</td>\n",
       "      <td>NaN</td>\n",
       "      <td>NaN</td>\n",
       "    </tr>\n",
       "    <tr>\n",
       "      <th>2</th>\n",
       "      <td>ABIRACHED</td>\n",
       "      <td>Zeina</td>\n",
       "      <td>10 minutes et 38 secondes dans ce monde étrange</td>\n",
       "      <td>42</td>\n",
       "      <td>NaN</td>\n",
       "      <td>NaN</td>\n",
       "    </tr>\n",
       "    <tr>\n",
       "      <th>3</th>\n",
       "      <td>ABIRACHED\\nENARD</td>\n",
       "      <td>Zeina\\nMathias</td>\n",
       "      <td>100 Portraits contre l’état policier</td>\n",
       "      <td>42</td>\n",
       "      <td>NaN</td>\n",
       "      <td>NaN</td>\n",
       "    </tr>\n",
       "    <tr>\n",
       "      <th>4</th>\n",
       "      <td>ABOUET\\nOUBRERIE</td>\n",
       "      <td>Marguerite\\nClément</td>\n",
       "      <td>19 femmes</td>\n",
       "      <td>42</td>\n",
       "      <td>NaN</td>\n",
       "      <td>NaN</td>\n",
       "    </tr>\n",
       "  </tbody>\n",
       "</table>\n",
       "</div>"
      ],
      "text/plain": [
       "                Nom               Prénom  \\\n",
       "0         ABÉCASSIS              Eliette   \n",
       "1         ABIRACHED                Zeina   \n",
       "2         ABIRACHED                Zeina   \n",
       "3  ABIRACHED\\nENARD       Zeina\\nMathias   \n",
       "4  ABOUET\\nOUBRERIE  Marguerite\\nClément   \n",
       "\n",
       "                                               Titre Catégorie Unnamed: 4  \\\n",
       "0         9 Histoire Lumineuse ou le bien est le mal     16/24        NaN   \n",
       "1   À cases égales - Des créatrices de BD romande...        42        NaN   \n",
       "2    10 minutes et 38 secondes dans ce monde étrange        42        NaN   \n",
       "3               100 Portraits contre l’état policier        42        NaN   \n",
       "4                                          19 femmes        42        NaN   \n",
       "\n",
       "  Unnamed: 5  \n",
       "0        NaN  \n",
       "1        NaN  \n",
       "2        NaN  \n",
       "3        NaN  \n",
       "4        NaN  "
      ]
     },
     "execution_count": 10,
     "metadata": {},
     "output_type": "execute_result"
    }
   ],
   "source": [
    "column_list = raw_data.columns\n",
    "dataframe = raw_data.rename(columns={\n",
    "    column_list[0]: 'Nom', \n",
    "    column_list[1]: 'Prénom',\n",
    "    column_list[2]: 'Titre',\n",
    "    column_list[3]: 'Catégorie'})\n",
    "\n",
    "dataframe.head()"
   ]
  },
  {
   "cell_type": "code",
   "execution_count": 11,
   "id": "8d41a19a",
   "metadata": {},
   "outputs": [],
   "source": [
    "for i in range(6) :\n",
    "    \n",
    "    filename = str(i)+'.md'\n",
    "    f = open(GENERATED_DATA+filename, \"x\")\n",
    "     \n",
    "    #row of interest \n",
    "    df = dataframe.iloc[i]\n",
    "    \n",
    "    # front matter markdown with\n",
    "    f.write('---\\n')\n",
    "    f.write('Nom:  \\''+df['Nom']+'\\'\\n')\n",
    "    f.write('Prénom: \\''+ df['Prénom']+'\\'\\n')\n",
    "    f.write('Titre: \\''+ df['Titre']+'\\'\\n')\n",
    "    f.write('Catégorie: \\''+df['Catégorie']+'\\'\\n')\n",
    "    f.write('---')\n",
    "    \n",
    "    f.close()"
   ]
  }
 ],
 "metadata": {
  "kernelspec": {
   "display_name": "Python 3 (ipykernel)",
   "language": "python",
   "name": "python3"
  },
  "language_info": {
   "codemirror_mode": {
    "name": "ipython",
    "version": 3
   },
   "file_extension": ".py",
   "mimetype": "text/x-python",
   "name": "python",
   "nbconvert_exporter": "python",
   "pygments_lexer": "ipython3",
   "version": "3.8.12"
  }
 },
 "nbformat": 4,
 "nbformat_minor": 5
}
