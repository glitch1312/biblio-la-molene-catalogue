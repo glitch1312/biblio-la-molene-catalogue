{
 "cells": [
  {
   "cell_type": "markdown",
   "metadata": {},
   "source": [
    "## Header \n",
    "Auteur : Amina Matt  \n",
    "Date de création : 27.12.2021  \n",
    "Date de dernière modification: 27.12.2021   \n",
    "Version : Python 3.8   \n",
    "Description: Créer les objects d'une collection (books) en format  .md avec le format requis. Une boucle sur les objets pour remplir un tableau ([Datatable](https://www.datatables.net))"
   ]
  },
  {
   "cell_type": "markdown",
   "metadata": {},
   "source": [
    "## Librairies"
   ]
  },
  {
   "cell_type": "code",
   "execution_count": 64,
   "metadata": {},
   "outputs": [],
   "source": [
    "import pandas as pd"
   ]
  },
  {
   "cell_type": "markdown",
   "metadata": {},
   "source": [
    "## Initialization "
   ]
  },
  {
   "cell_type": "code",
   "execution_count": 65,
   "metadata": {},
   "outputs": [],
   "source": [
    "PATH = '../data/'\n",
    "GENERATED_DATA = '../_books/'\n",
    "CATALOG = PATH+'biblio_la_molene_catalogue.csv'"
   ]
  },
  {
   "cell_type": "markdown",
   "metadata": {},
   "source": [
    "## Load"
   ]
  },
  {
   "cell_type": "code",
   "execution_count": 66,
   "metadata": {},
   "outputs": [],
   "source": [
    "raw_data = pd.read_csv(CATALOG, encoding = 'utf8')"
   ]
  },
  {
   "cell_type": "code",
   "execution_count": 67,
   "metadata": {},
   "outputs": [
    {
     "data": {
      "text/html": [
       "<div>\n",
       "<style scoped>\n",
       "    .dataframe tbody tr th:only-of-type {\n",
       "        vertical-align: middle;\n",
       "    }\n",
       "\n",
       "    .dataframe tbody tr th {\n",
       "        vertical-align: top;\n",
       "    }\n",
       "\n",
       "    .dataframe thead th {\n",
       "        text-align: right;\n",
       "    }\n",
       "</style>\n",
       "<table border=\"1\" class=\"dataframe\">\n",
       "  <thead>\n",
       "    <tr style=\"text-align: right;\">\n",
       "      <th></th>\n",
       "      <th>NOM AUTEURICE</th>\n",
       "      <th>PRENOM AUTEURICE</th>\n",
       "      <th>&amp; La pensée féministe au maghreb</th>\n",
       "      <th>EXEMPLAIRES</th>\n",
       "      <th>Unnamed: 4</th>\n",
       "      <th>Unnamed: 5</th>\n",
       "    </tr>\n",
       "  </thead>\n",
       "  <tbody>\n",
       "    <tr>\n",
       "      <th>0</th>\n",
       "      <td>ABÉCASSIS</td>\n",
       "      <td>Eliette</td>\n",
       "      <td>9 Histoire Lumineuse ou le bien est le mal</td>\n",
       "      <td>16/24</td>\n",
       "      <td>NaN</td>\n",
       "      <td>NaN</td>\n",
       "    </tr>\n",
       "    <tr>\n",
       "      <th>1</th>\n",
       "      <td>ABIRACHED</td>\n",
       "      <td>Zeina</td>\n",
       "      <td>À cases égales - Des créatrices de BD romande...</td>\n",
       "      <td>42</td>\n",
       "      <td>NaN</td>\n",
       "      <td>NaN</td>\n",
       "    </tr>\n",
       "    <tr>\n",
       "      <th>2</th>\n",
       "      <td>ABIRACHED</td>\n",
       "      <td>Zeina</td>\n",
       "      <td>10 minutes et 38 secondes dans ce monde étrange</td>\n",
       "      <td>42</td>\n",
       "      <td>NaN</td>\n",
       "      <td>NaN</td>\n",
       "    </tr>\n",
       "    <tr>\n",
       "      <th>3</th>\n",
       "      <td>ABIRACHED\\nENARD</td>\n",
       "      <td>Zeina\\nMathias</td>\n",
       "      <td>100 Portraits contre l’état policier</td>\n",
       "      <td>42</td>\n",
       "      <td>NaN</td>\n",
       "      <td>NaN</td>\n",
       "    </tr>\n",
       "    <tr>\n",
       "      <th>4</th>\n",
       "      <td>ABOUET\\nOUBRERIE</td>\n",
       "      <td>Marguerite\\nClément</td>\n",
       "      <td>19 femmes</td>\n",
       "      <td>42</td>\n",
       "      <td>NaN</td>\n",
       "      <td>NaN</td>\n",
       "    </tr>\n",
       "  </tbody>\n",
       "</table>\n",
       "</div>"
      ],
      "text/plain": [
       "      NOM AUTEURICE     PRENOM AUTEURICE  \\\n",
       "0         ABÉCASSIS              Eliette   \n",
       "1         ABIRACHED                Zeina   \n",
       "2         ABIRACHED                Zeina   \n",
       "3  ABIRACHED\\nENARD       Zeina\\nMathias   \n",
       "4  ABOUET\\nOUBRERIE  Marguerite\\nClément   \n",
       "\n",
       "                   & La pensée féministe au maghreb  EXEMPLAIRES Unnamed: 4  \\\n",
       "0         9 Histoire Lumineuse ou le bien est le mal       16/24        NaN   \n",
       "1   À cases égales - Des créatrices de BD romande...          42        NaN   \n",
       "2    10 minutes et 38 secondes dans ce monde étrange          42        NaN   \n",
       "3               100 Portraits contre l’état policier          42        NaN   \n",
       "4                                          19 femmes          42        NaN   \n",
       "\n",
       "  Unnamed: 5  \n",
       "0        NaN  \n",
       "1        NaN  \n",
       "2        NaN  \n",
       "3        NaN  \n",
       "4        NaN  "
      ]
     },
     "execution_count": 67,
     "metadata": {},
     "output_type": "execute_result"
    }
   ],
   "source": [
    "raw_data.head()"
   ]
  },
  {
   "cell_type": "code",
   "execution_count": 68,
   "metadata": {},
   "outputs": [
    {
     "data": {
      "text/html": [
       "<div>\n",
       "<style scoped>\n",
       "    .dataframe tbody tr th:only-of-type {\n",
       "        vertical-align: middle;\n",
       "    }\n",
       "\n",
       "    .dataframe tbody tr th {\n",
       "        vertical-align: top;\n",
       "    }\n",
       "\n",
       "    .dataframe thead th {\n",
       "        text-align: right;\n",
       "    }\n",
       "</style>\n",
       "<table border=\"1\" class=\"dataframe\">\n",
       "  <thead>\n",
       "    <tr style=\"text-align: right;\">\n",
       "      <th></th>\n",
       "      <th>Nom</th>\n",
       "      <th>Prenom</th>\n",
       "      <th>Titre</th>\n",
       "      <th>Categorie</th>\n",
       "      <th>Unnamed: 4</th>\n",
       "      <th>Unnamed: 5</th>\n",
       "    </tr>\n",
       "  </thead>\n",
       "  <tbody>\n",
       "    <tr>\n",
       "      <th>0</th>\n",
       "      <td>ABÉCASSIS</td>\n",
       "      <td>Eliette</td>\n",
       "      <td>9 Histoire Lumineuse ou le bien est le mal</td>\n",
       "      <td>16/24</td>\n",
       "      <td>NaN</td>\n",
       "      <td>NaN</td>\n",
       "    </tr>\n",
       "    <tr>\n",
       "      <th>1</th>\n",
       "      <td>ABIRACHED</td>\n",
       "      <td>Zeina</td>\n",
       "      <td>À cases égales - Des créatrices de BD romande...</td>\n",
       "      <td>42</td>\n",
       "      <td>NaN</td>\n",
       "      <td>NaN</td>\n",
       "    </tr>\n",
       "    <tr>\n",
       "      <th>2</th>\n",
       "      <td>ABIRACHED</td>\n",
       "      <td>Zeina</td>\n",
       "      <td>10 minutes et 38 secondes dans ce monde étrange</td>\n",
       "      <td>42</td>\n",
       "      <td>NaN</td>\n",
       "      <td>NaN</td>\n",
       "    </tr>\n",
       "    <tr>\n",
       "      <th>3</th>\n",
       "      <td>ABIRACHED\\nENARD</td>\n",
       "      <td>Zeina\\nMathias</td>\n",
       "      <td>100 Portraits contre l’état policier</td>\n",
       "      <td>42</td>\n",
       "      <td>NaN</td>\n",
       "      <td>NaN</td>\n",
       "    </tr>\n",
       "    <tr>\n",
       "      <th>4</th>\n",
       "      <td>ABOUET\\nOUBRERIE</td>\n",
       "      <td>Marguerite\\nClément</td>\n",
       "      <td>19 femmes</td>\n",
       "      <td>42</td>\n",
       "      <td>NaN</td>\n",
       "      <td>NaN</td>\n",
       "    </tr>\n",
       "  </tbody>\n",
       "</table>\n",
       "</div>"
      ],
      "text/plain": [
       "                Nom               Prenom  \\\n",
       "0         ABÉCASSIS              Eliette   \n",
       "1         ABIRACHED                Zeina   \n",
       "2         ABIRACHED                Zeina   \n",
       "3  ABIRACHED\\nENARD       Zeina\\nMathias   \n",
       "4  ABOUET\\nOUBRERIE  Marguerite\\nClément   \n",
       "\n",
       "                                               Titre Categorie Unnamed: 4  \\\n",
       "0         9 Histoire Lumineuse ou le bien est le mal     16/24        NaN   \n",
       "1   À cases égales - Des créatrices de BD romande...        42        NaN   \n",
       "2    10 minutes et 38 secondes dans ce monde étrange        42        NaN   \n",
       "3               100 Portraits contre l’état policier        42        NaN   \n",
       "4                                          19 femmes        42        NaN   \n",
       "\n",
       "  Unnamed: 5  \n",
       "0        NaN  \n",
       "1        NaN  \n",
       "2        NaN  \n",
       "3        NaN  \n",
       "4        NaN  "
      ]
     },
     "execution_count": 68,
     "metadata": {},
     "output_type": "execute_result"
    }
   ],
   "source": [
    "column_list = raw_data.columns\n",
    "dataframe = raw_data.rename(columns={\n",
    "    column_list[0]: 'Nom', \n",
    "    column_list[1]: 'Prenom',\n",
    "    column_list[2]: 'Titre',\n",
    "    column_list[3]: 'Categorie'})\n",
    "\n",
    "dataframe.head()"
   ]
  },
  {
   "cell_type": "markdown",
   "metadata": {},
   "source": [
    "## Cleaning"
   ]
  },
  {
   "cell_type": "code",
   "execution_count": 69,
   "metadata": {},
   "outputs": [],
   "source": [
    "dataframe = dataframe.drop(columns = [column_list[4],column_list[5]])"
   ]
  },
  {
   "cell_type": "markdown",
   "metadata": {},
   "source": [
    "### None values"
   ]
  },
  {
   "cell_type": "code",
   "execution_count": 70,
   "metadata": {},
   "outputs": [
    {
     "data": {
      "text/plain": [
       "Nom                           AMNESTY INTERNATIONAL\n",
       "Prenom                                          NaN\n",
       "Titre        Ainsi furent-elles, Destins au féminin\n",
       "Categorie                                        36\n",
       "Name: 23, dtype: object"
      ]
     },
     "execution_count": 70,
     "metadata": {},
     "output_type": "execute_result"
    }
   ],
   "source": [
    "dataframe.iloc[23]"
   ]
  },
  {
   "cell_type": "code",
   "execution_count": 71,
   "metadata": {},
   "outputs": [],
   "source": [
    "nan_value = float(\"NaN\")\n",
    "dataframe.replace( nan_value, \"\", inplace=True)"
   ]
  },
  {
   "cell_type": "code",
   "execution_count": 72,
   "metadata": {},
   "outputs": [
    {
     "data": {
      "text/plain": [
       "Nom                           AMNESTY INTERNATIONAL\n",
       "Prenom                                             \n",
       "Titre        Ainsi furent-elles, Destins au féminin\n",
       "Categorie                                        36\n",
       "Name: 23, dtype: object"
      ]
     },
     "execution_count": 72,
     "metadata": {},
     "output_type": "execute_result"
    }
   ],
   "source": [
    "dataframe.iloc[23]"
   ]
  },
  {
   "cell_type": "markdown",
   "metadata": {},
   "source": [
    "### Letters case"
   ]
  },
  {
   "cell_type": "code",
   "execution_count": 78,
   "metadata": {},
   "outputs": [
    {
     "data": {
      "text/html": [
       "<div>\n",
       "<style scoped>\n",
       "    .dataframe tbody tr th:only-of-type {\n",
       "        vertical-align: middle;\n",
       "    }\n",
       "\n",
       "    .dataframe tbody tr th {\n",
       "        vertical-align: top;\n",
       "    }\n",
       "\n",
       "    .dataframe thead th {\n",
       "        text-align: right;\n",
       "    }\n",
       "</style>\n",
       "<table border=\"1\" class=\"dataframe\">\n",
       "  <thead>\n",
       "    <tr style=\"text-align: right;\">\n",
       "      <th></th>\n",
       "      <th>Nom</th>\n",
       "      <th>Prenom</th>\n",
       "      <th>Titre</th>\n",
       "      <th>Categorie</th>\n",
       "    </tr>\n",
       "  </thead>\n",
       "  <tbody>\n",
       "    <tr>\n",
       "      <th>0</th>\n",
       "      <td>Abécassis</td>\n",
       "      <td>Eliette</td>\n",
       "      <td>9 Histoire Lumineuse ou le bien est le mal</td>\n",
       "      <td>16/24</td>\n",
       "    </tr>\n",
       "    <tr>\n",
       "      <th>1</th>\n",
       "      <td>Abirached</td>\n",
       "      <td>Zeina</td>\n",
       "      <td>À cases égales - Des créatrices de BD romande...</td>\n",
       "      <td>42</td>\n",
       "    </tr>\n",
       "    <tr>\n",
       "      <th>2</th>\n",
       "      <td>Abirached</td>\n",
       "      <td>Zeina</td>\n",
       "      <td>10 minutes et 38 secondes dans ce monde étrange</td>\n",
       "      <td>42</td>\n",
       "    </tr>\n",
       "    <tr>\n",
       "      <th>3</th>\n",
       "      <td>Abirached\\nEnard</td>\n",
       "      <td>Zeina\\nMathias</td>\n",
       "      <td>100 Portraits contre l’état policier</td>\n",
       "      <td>42</td>\n",
       "    </tr>\n",
       "    <tr>\n",
       "      <th>4</th>\n",
       "      <td>Abouet\\nOubrerie</td>\n",
       "      <td>Marguerite\\nClément</td>\n",
       "      <td>19 femmes</td>\n",
       "      <td>42</td>\n",
       "    </tr>\n",
       "  </tbody>\n",
       "</table>\n",
       "</div>"
      ],
      "text/plain": [
       "                Nom               Prenom  \\\n",
       "0         Abécassis              Eliette   \n",
       "1         Abirached                Zeina   \n",
       "2         Abirached                Zeina   \n",
       "3  Abirached\\nEnard       Zeina\\nMathias   \n",
       "4  Abouet\\nOubrerie  Marguerite\\nClément   \n",
       "\n",
       "                                               Titre Categorie  \n",
       "0         9 Histoire Lumineuse ou le bien est le mal     16/24  \n",
       "1   À cases égales - Des créatrices de BD romande...        42  \n",
       "2    10 minutes et 38 secondes dans ce monde étrange        42  \n",
       "3               100 Portraits contre l’état policier        42  \n",
       "4                                          19 femmes        42  "
      ]
     },
     "execution_count": 78,
     "metadata": {},
     "output_type": "execute_result"
    }
   ],
   "source": [
    "dataframe['Nom'] = dataframe['Nom'].apply(lambda x: x.lower())\n",
    "dataframe['Nom'] = dataframe['Nom'].apply(lambda x: x.title())\n",
    "\n",
    "dataframe['Prenom'] = dataframe['Prenom'].apply(lambda x: x.lower())\n",
    "dataframe['Prenom'] = dataframe['Prenom'].apply(lambda x: x.title())\n",
    "\n",
    "\n",
    "\n",
    "#dataframe['Prenom'] = dataframe['Prenom'].apply(lambda x: (x.str.lower().str.title()))\n",
    "dataframe.head()"
   ]
  },
  {
   "cell_type": "markdown",
   "metadata": {},
   "source": [
    "## Writing"
   ]
  },
  {
   "cell_type": "code",
   "execution_count": 79,
   "metadata": {},
   "outputs": [],
   "source": [
    "n = len(dataframe)"
   ]
  },
  {
   "cell_type": "code",
   "execution_count": 80,
   "metadata": {},
   "outputs": [],
   "source": [
    "for i in range(n) :\n",
    "    \n",
    "    filename = str(i)+'.md'\n",
    "    f = open(GENERATED_DATA+filename, \"x\", encoding='utf8')\n",
    "     \n",
    "    #row of interest \n",
    "    df = dataframe.iloc[i]\n",
    "    \n",
    "    # front matter markdown with\n",
    "    f.write('---\\n')\n",
    "    f.write('Nom:  \\''+df['Nom']+'\\'\\n')\n",
    "    f.write('Prenom: \\''+ df['Prenom']+'\\'\\n')\n",
    "    f.write('Titre: \\''+ df['Titre']+'\\'\\n')\n",
    "    f.write('Categorie: \\''+df['Categorie']+'\\'\\n')\n",
    "    f.write('---')\n",
    "    \n",
    "    f.close()"
   ]
  },
  {
   "cell_type": "code",
   "execution_count": null,
   "metadata": {},
   "outputs": [],
   "source": []
  }
 ],
 "metadata": {
  "kernelspec": {
   "display_name": "Python 3",
   "language": "python",
   "name": "python3"
  },
  "language_info": {
   "codemirror_mode": {
    "name": "ipython",
    "version": 3
   },
   "file_extension": ".py",
   "mimetype": "text/x-python",
   "name": "python",
   "nbconvert_exporter": "python",
   "pygments_lexer": "ipython3",
   "version": "3.8.5"
  }
 },
 "nbformat": 4,
 "nbformat_minor": 5
}
